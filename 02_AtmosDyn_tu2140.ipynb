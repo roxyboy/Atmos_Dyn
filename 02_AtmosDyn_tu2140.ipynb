{
 "cells": [
  {
   "cell_type": "code",
   "execution_count": 1,
   "metadata": {
    "collapsed": true
   },
   "outputs": [],
   "source": [
    "import numpy as np\n",
    "import bigfloat as bgft\n",
    "import mpmath as mp\n",
    "from scipy import integrate as integ\n",
    "from matplotlib import pyplot as plt\n",
    "%matplotlib inline"
   ]
  },
  {
   "cell_type": "markdown",
   "metadata": {},
   "source": [
    "# Question 1.\n",
    "\n",
    "##(a)"
   ]
  },
  {
   "cell_type": "markdown",
   "metadata": {},
   "source": [
    "Buoyancy is defined as \n",
    "\n",
    "$$ b \\equiv f_0 \\frac{\\psi_1 - \\psi_2}{H/2} $$\n",
    "\n",
    "and the relation between the unperturbed flow and geostrophic streamfunction is\n",
    "\n",
    "$$ U_1 = - \\frac{\\partial \\psi_1}{\\partial y}, \\ \\ \\ \\ U_2 = - \\frac{\\partial \\psi_2}{\\partial y} $$\n",
    "\n",
    "so taking the $y$ derivative of equation (1) yields\n",
    "\n",
    "$$ - \\frac{\\partial b}{\\partial y} = f_0 \\frac{- \\partial \\psi_1 / \\partial y + \\partial \\psi_2 / \\partial y}{H/2} = f_0 \\frac{U_1 - U_2}{H/2} $$"
   ]
  },
  {
   "cell_type": "markdown",
   "metadata": {},
   "source": [
    "## (b)"
   ]
  },
  {
   "cell_type": "markdown",
   "metadata": {},
   "source": [
    "For an unstable condition, we need equation (2) so\n",
    "\n",
    "$$ - \\frac{\\partial b}{\\partial y} \\geq f_0 \\frac{\\frac{1}{4} \\beta L_d^2}{H/2} = \\frac{f_0 L_d^2}{2H} \\frac{f_0}{a} \\cos{\\theta} = \\frac{f_0^2}{2aH} \\frac{N^2 H^2}{f_0^2} \\cos{\\theta} $$"
   ]
  },
  {
   "cell_type": "markdown",
   "metadata": {},
   "source": [
    "Now, dividing both sides with $\\partial \\bar{b}/\\partial z = N^2$, we get\n",
    "\n",
    "$$ \\frac{\\partial z}{\\partial y} \\bigg|_\\bar{b} \\geq \\frac{N^2 H}{2a} \\frac{1}{N^2} \\cos{\\theta} $$\n",
    "\n",
    "Thus, we get\n",
    "\n",
    "$$ \\frac{\\partial z}{\\partial y} \\bigg|_\\bar{b}  \\geq \\frac{H}{2a} \\cos{\\theta} $$"
   ]
  },
  {
   "cell_type": "markdown",
   "metadata": {},
   "source": [
    "## (c)"
   ]
  },
  {
   "cell_type": "markdown",
   "metadata": {},
   "source": [
    "The two-level QGPV equation is\n",
    "\n",
    "$$ \\frac{D}{Dt} \\bigg[ \\zeta_i + \\beta y + \\frac{k_d^2}{2} \\big( \\psi_j - \\psi_i \\big) \\bigg] = 0; \\ \\ \\ \\ \\ i = 1,2, \\ \\ \\ j = 3 - i $$\n",
    "\n",
    "where $k_d = \\frac{\\sqrt{8}}{L_d}$ so the basic PV becomes\n",
    "\n",
    "$$ \\bar{q}_1 = \\beta y + \\frac{k_d^2}{2} \\big( \\Psi_2 - \\Psi_1 \\big) = \\beta y + \\frac{4}{L_d^2} \\big( \\Psi_2 - \\Psi_1 \\big) $$ \n",
    "$$ \\bar{q}_2 = \\beta y - \\frac{k_d^2}{2} \\big( \\Psi_2 - \\Psi_1 \\big) = \\beta y - \\frac{4}{L_d^2} \\big( \\Psi_2 - \\Psi_1 \\big) $$"
   ]
  },
  {
   "cell_type": "markdown",
   "metadata": {},
   "source": [
    "From the definition of the streamfunction, $U = - \\partial \\Psi / \\partial y$ so we get\n",
    "\n",
    "$$ \\Psi_1 = - U_1 y, \\ \\ \\ \\ \\Psi_2 = - U_2 y $$\n",
    "\n",
    "and thus\n",
    "\n",
    "$$ \\bar{q}_1 = \\beta y + \\frac{4}{L_d^2} \\big( U_1 - U_2 \\big) y, \\ \\ \\ \\ \\bar{q}_2 = \\beta y - \\frac{4}{L_d^2} \\big( U_1 - U_2 \\big) y $$ "
   ]
  },
  {
   "cell_type": "markdown",
   "metadata": {},
   "source": [
    "Hence, the meridional gradients of the basic QGPV are\n",
    "\n",
    "$$ \\frac{\\partial \\bar{q}_1}{\\partial y} = \\beta + \\frac{4}{L_d^2} \\big( U_1 - U_2 \\big), \\ \\ \\ \\ \\frac{\\partial \\bar{q}_2}{\\partial y} = \\beta - \\frac{4}{L_d^2} \\big( U_1 - U_2 \\big) $$"
   ]
  },
  {
   "cell_type": "markdown",
   "metadata": {},
   "source": [
    "Under unstable conditions, i.e.equation (2), we have\n",
    "\n",
    "$$ \\frac{\\partial \\bar{q}_1}{\\partial y} \\geq \\beta + \\frac{4}{L_d^2} \\frac{1}{2} \\beta L_d^2 = 3 \\beta\\ \\ \\ (>0) $$\n",
    "\n",
    "$$ \\frac{\\partial \\bar{q}_2}{\\partial y} \\leq \\beta - \\frac{4}{L_d^2} \\frac{1}{2} \\beta L_d^2 = - \\beta \\ \\ \\ (<0) $$"
   ]
  },
  {
   "cell_type": "code",
   "execution_count": null,
   "metadata": {
    "collapsed": true
   },
   "outputs": [],
   "source": []
  }
 ],
 "metadata": {
  "kernelspec": {
   "display_name": "Python 2",
   "language": "python",
   "name": "python2"
  },
  "language_info": {
   "codemirror_mode": {
    "name": "ipython",
    "version": 2
   },
   "file_extension": ".py",
   "mimetype": "text/x-python",
   "name": "python",
   "nbconvert_exporter": "python",
   "pygments_lexer": "ipython2",
   "version": "2.7.10"
  }
 },
 "nbformat": 4,
 "nbformat_minor": 0
}
