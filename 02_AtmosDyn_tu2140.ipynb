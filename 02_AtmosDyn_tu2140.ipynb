{
 "cells": [
  {
   "cell_type": "code",
   "execution_count": 1,
   "metadata": {
    "collapsed": true
   },
   "outputs": [],
   "source": [
    "import numpy as np\n",
    "import bigfloat as bgft\n",
    "import mpmath as mp\n",
    "import gsw\n",
    "from scipy import integrate as integ\n",
    "from scipy import linalg as lin\n",
    "from matplotlib import pyplot as plt\n",
    "from matplotlib.gridspec import GridSpec\n",
    "%matplotlib inline"
   ]
  },
  {
   "cell_type": "markdown",
   "metadata": {},
   "source": [
    "# Question 1.\n",
    "\n",
    "##(a)"
   ]
  },
  {
   "cell_type": "markdown",
   "metadata": {},
   "source": [
    "Buoyancy is defined as \n",
    "\n",
    "$$ b \\equiv f_0 \\frac{\\psi_1 - \\psi_2}{H/2} $$\n",
    "\n",
    "and the relation between the unperturbed flow and geostrophic streamfunction is\n",
    "\n",
    "$$ U_1 = - \\frac{\\partial \\psi_1}{\\partial y}, \\ \\ \\ \\ U_2 = - \\frac{\\partial \\psi_2}{\\partial y} $$\n",
    "\n",
    "so taking the $y$ derivative of equation (1) yields\n",
    "\n",
    "$$ - \\frac{\\partial b}{\\partial y} = f_0 \\frac{- \\partial \\psi_1 / \\partial y + \\partial \\psi_2 / \\partial y}{H/2} = f_0 \\frac{U_1 - U_2}{H/2} $$"
   ]
  },
  {
   "cell_type": "markdown",
   "metadata": {},
   "source": [
    "## (b)"
   ]
  },
  {
   "cell_type": "markdown",
   "metadata": {},
   "source": [
    "For an unstable condition, we need equation (2) so\n",
    "\n",
    "$$ - \\frac{\\partial b}{\\partial y} \\geq f_0 \\frac{\\frac{1}{4} \\beta L_d^2}{H/2} = \\frac{f_0 \\ L_d^2}{2H} \\frac{2 \\Omega}{a} \\cos{\\theta} = \\frac{(2 \\Omega)^2 \\sin{\\theta} \\cos{\\theta}}{2aH} \\frac{N^2 H^2}{(2 \\Omega \\sin{\\theta})^2} = \\frac{N^2 H}{2a} \\cot{\\theta} $$"
   ]
  },
  {
   "cell_type": "markdown",
   "metadata": {},
   "source": [
    "Now, dividing both sides with $\\partial \\bar{b}/\\partial z = N^2$, we get\n",
    "\n",
    "$$ \\frac{\\partial z}{\\partial y} \\bigg|_\\bar{b} \\geq \\frac{N^2 H}{2a} \\frac{1}{N^2} \\cot{\\theta} $$\n",
    "\n",
    "Thus, we get\n",
    "\n",
    "$$ \\frac{\\partial z}{\\partial y} \\bigg|_\\bar{b}  \\geq \\frac{H}{2a} \\cot{\\theta} $$"
   ]
  },
  {
   "cell_type": "markdown",
   "metadata": {},
   "source": [
    "## (c)"
   ]
  },
  {
   "cell_type": "markdown",
   "metadata": {},
   "source": [
    "The two-level QGPV equation is\n",
    "\n",
    "$$ \\frac{D}{Dt} \\bigg[ \\zeta_i + \\beta y + \\frac{k_d^2}{2} \\big( \\psi_j - \\psi_i \\big) \\bigg] = 0; \\ \\ \\ \\ \\ i = 1,2, \\ \\ \\ j = 3 - i $$\n",
    "\n",
    "where $k_d = \\frac{\\sqrt{8}}{L_d}$ so the basic PV becomes\n",
    "\n",
    "$$ \\bar{q}_1 = \\beta y + \\frac{k_d^2}{2} \\big( \\Psi_2 - \\Psi_1 \\big) = \\beta y + \\frac{4}{L_d^2} \\big( \\Psi_2 - \\Psi_1 \\big) $$ \n",
    "$$ \\bar{q}_2 = \\beta y - \\frac{k_d^2}{2} \\big( \\Psi_2 - \\Psi_1 \\big) = \\beta y - \\frac{4}{L_d^2} \\big( \\Psi_2 - \\Psi_1 \\big) $$"
   ]
  },
  {
   "cell_type": "markdown",
   "metadata": {},
   "source": [
    "From the definition of the streamfunction, $U = - \\partial \\Psi / \\partial y$ so we get\n",
    "\n",
    "$$ \\Psi_1 = - U_1 y, \\ \\ \\ \\ \\Psi_2 = - U_2 y $$\n",
    "\n",
    "and thus\n",
    "\n",
    "$$ \\bar{q}_1 = \\beta y + \\frac{4}{L_d^2} \\big( U_1 - U_2 \\big) y, \\ \\ \\ \\ \\bar{q}_2 = \\beta y - \\frac{4}{L_d^2} \\big( U_1 - U_2 \\big) y $$ "
   ]
  },
  {
   "cell_type": "markdown",
   "metadata": {},
   "source": [
    "Hence, the meridional gradients of the basic QGPV are\n",
    "\n",
    "$$ \\frac{\\partial \\bar{q}_1}{\\partial y} = \\beta + \\frac{4}{L_d^2} \\big( U_1 - U_2 \\big), \\ \\ \\ \\ \\frac{\\partial \\bar{q}_2}{\\partial y} = \\beta - \\frac{4}{L_d^2} \\big( U_1 - U_2 \\big) $$"
   ]
  },
  {
   "cell_type": "markdown",
   "metadata": {},
   "source": [
    "Under unstable conditions, i.e.equation (2), we have\n",
    "\n",
    "$$ \\frac{\\partial \\bar{q}_1}{\\partial y} \\geq \\beta + \\frac{4}{L_d^2} \\frac{1}{2} \\beta L_d^2 = 3 \\beta\\ \\ \\ (>0) $$\n",
    "\n",
    "$$ \\frac{\\partial \\bar{q}_2}{\\partial y} \\leq \\beta - \\frac{4}{L_d^2} \\frac{1}{2} \\beta L_d^2 = - \\beta \\ \\ \\ (<0) $$"
   ]
  },
  {
   "cell_type": "markdown",
   "metadata": {
    "collapsed": true
   },
   "source": [
    "# Question 2.\n",
    "\n",
    "## (a)"
   ]
  },
  {
   "cell_type": "code",
   "execution_count": 2,
   "metadata": {
    "collapsed": false
   },
   "outputs": [],
   "source": [
    "L = 5e6   # [m]\n",
    "J = 101\n",
    "delta = .5*L / J\n",
    "y = np.arange( -.5*L+delta, delta, delta )\n",
    "y_ext = np.arange( -.5*L+delta, .5*L, delta )\n",
    "u0 = -25e0\n",
    "Gamma = 1e-5\n",
    "omega = gsw.earth.OMEGA\n",
    "a = gsw.earth.earth_radius\n",
    "beta_eq = 2.*omega/a "
   ]
  },
  {
   "cell_type": "code",
   "execution_count": 3,
   "metadata": {
    "collapsed": false
   },
   "outputs": [
    {
     "name": "stdout",
     "output_type": "stream",
     "text": [
      "(101,) (201,) -7.45058059692e-09 24752.4752475 24752.4752475\n"
     ]
    }
   ],
   "source": [
    "print y.shape, y_ext.shape, y_ext[J-1], y_ext[J], delta"
   ]
  },
  {
   "cell_type": "markdown",
   "metadata": {},
   "source": [
    "The background velocity, QGPV and its merdional gradient for $ y < 0 $ is defines as\n",
    "\n",
    "$$ \\bar{u}_j =  u_0 - \\Gamma y_j $$\n",
    "\n",
    "$$ \\bar{q}_j = \\beta y_j + \\Gamma $$\n",
    "\n",
    "$$ {\\bar{q}_y}_j = \\beta \\ \\ \\ (j=1,2,\\cdots,J-1), \\ \\ \\ \\ {\\bar{q}_y}_J = \\beta - \\frac{\\partial^2 \\bar{u}_J}{\\partial y^2} $$"
   ]
  },
  {
   "cell_type": "code",
   "execution_count": 18,
   "metadata": {
    "collapsed": false
   },
   "outputs": [],
   "source": [
    "ubar = u0 - Gamma * y\n",
    "\n",
    "ubar_ext = y_ext.copy()\n",
    "ubar_ext[:] = 0.\n",
    "ubar_ext[:J] = ubar\n",
    "ubar_ext[J:] = u0 + Gamma * y_ext[J:]\n",
    "\n",
    "qbar = beta_eq * y + Gamma\n",
    "qbar_y = qbar.copy()\n",
    "qbar_y[:-1] = beta_eq\n",
    "qbar_y[-1] = beta_eq - (ubar_ext[J-2]-2.*ubar_ext[J-1]+ubar_ext[J])/delta**2"
   ]
  },
  {
   "cell_type": "markdown",
   "metadata": {},
   "source": [
    "Rearranging equation (6) gives:\n",
    "\n",
    "$$ \\big( \\bar{u} - c \\big) \\frac{\\partial^2}{\\partial y^2} \\psi + \\bigg[ \\frac{\\partial \\bar{q}}{\\partial y} - m^2 \\big( \\bar{u} - c \\big) \\bigg] \\psi = 0 $$\n",
    "\n",
    "$$ \\therefore \\bar{u} \\frac{\\partial^2}{\\partial y^2} \\psi + \\bigg( \\frac{\\partial \\bar{q}}{\\partial y} - m^2 \\bar{u} \\bigg) \\psi = c \\bigg( \\frac{\\partial^2}{\\partial y^2} - m^2 \\bigg) \\psi \\ \\ \\ \\ \\ \\ (6-1) $$"
   ]
  },
  {
   "cell_type": "markdown",
   "metadata": {},
   "source": [
    "Now, the second order derivative is differentiated as\n",
    "\n",
    "$$ \\frac{\\partial^2 \\psi}{\\partial y^2} \\bigg|_{y_1} \\approx \\frac{\\psi_2 - 2 \\psi_1}{\\delta^2} $$\n",
    "\n",
    "$$ \\frac{\\partial^2 \\psi}{\\partial y^2} \\bigg|_{y_j} \\approx \\frac{\\psi_{j+1} - 2 \\psi_j + \\psi_{j-1}}{\\delta^2} $$\n",
    "\n",
    "$$ \\frac{\\partial^2 \\psi}{\\partial y^2} \\bigg|_{y_J} \\approx \\frac{ - 2 \\psi_J + 2 \\psi_{J-1}}{\\delta^2} $$"
   ]
  },
  {
   "cell_type": "markdown",
   "metadata": {
    "collapsed": false
   },
   "source": [
    "so in a linear albegraic form of the LHS of equation (6-1), we have\n",
    "\n",
    "$$\\left(\n",
    "    \\begin{array}{ccccccc}\n",
    "      \\frac{-2 \\bar{u}_1}{\\delta^2} + {\\bar{q}_y}_1 - m^2 \\bar{u}_1 & \\frac{\\bar{u}_1}{\\delta^2} & 0 & 0 & 0 & \\ldots & 0 \\\\\n",
    "      \\frac{\\bar{u}_2}{\\delta^2} & \\frac{-2 \\bar{u}_2}{\\delta^2} + {\\bar{q}_y}_2 - m^2 \\bar{u}_2 & \\frac{\\bar{u}_2}{\\delta^2} & 0 & 0 & \\ldots & 0 \\\\\n",
    "      0 & \\frac{\\bar{u}_3}{\\delta^2} & \\frac{-2 \\bar{u}_3}{\\delta^2} + {\\bar{q}_y}_3 - m^2 \\bar{u}_3 & \\frac{\\bar{u}_3}{\\delta^2} & 0 & \\ldots & 0 \\\\\n",
    "      \\vdots & \\ddots & \\ddots & \\ddots & \\ddots & \\ddots & \\vdots \\\\\n",
    "      0 & \\ldots & 0 & 0 & \\frac{\\bar{u}_{J-1}}{\\delta^2} & \\frac{-2 \\bar{u}_{J-1}}{\\delta^2} + {\\bar{q}_y}_{J-1} - m^2 \\bar{u}_{J-1} & \\frac{\\bar{u}_{J-1}}{\\delta^2} \\\\\n",
    "      0 & \\ldots & 0 & 0 & 0 & \\frac{2 \\bar{u}_J}{\\delta^2} & \\frac{-2 \\bar{u}_J}{\\delta^2} + {\\bar{q}_y}_J - m^2 \\bar{u}_J\n",
    "    \\end{array}\n",
    "  \\right) \n",
    "  \\left(\n",
    "    \\begin{array}{c}\n",
    "      \\psi_1^n \\\\\n",
    "      \\psi_2^n \\\\\n",
    "      \\psi_3^n \\\\\n",
    "      \\vdots \\\\\n",
    "      \\psi_{J-1}^n \\\\\n",
    "      \\psi_J^n\n",
    "    \\end{array}\n",
    "  \\right) \\equiv \\boldsymbol{A} \\ \\boldsymbol{\\psi}^n $$\n",
    "  \n",
    "where the superscripts $n$ describe the eigenmodes and the RHS of equation (6-1) is differentiated as\n",
    "\n",
    "$$ c \\left(\n",
    "    \\begin{array}{cccccc}\n",
    "      \\frac{-2}{\\delta^2} - m^2 & \\frac{1}{\\delta^2} & 0 & 0 & 0 & \\ldots & 0 \\\\\n",
    "      \\frac{1}{\\delta^2} & \\frac{-2}{\\delta^2} - m^2 & \\frac{1}{\\delta^2} & 0 & 0 & \\ldots & 0 \\\\\n",
    "      0 & \\frac{1}{\\delta^2} & \\frac{-2}{\\delta^2} - m^2 & \\frac{1}{\\delta^2} & 0 & \\ldots & 0 \\\\\n",
    "      \\vdots & \\ddots & \\ddots & \\ddots & \\ddots & \\ddots & \\vdots \\\\\n",
    "      0 & \\ldots & \\ldots & 0 & \\frac{1}{\\delta^2} & \\frac{-2}{\\delta^2} - m^2 & \\frac{1}{\\delta^2} \\\\\n",
    "      0 & \\ldots & \\ldots & 0 & 0 & \\frac{2}{\\delta^2} & \\frac{-2}{\\delta^2} - m^2\n",
    "    \\end{array}\n",
    "  \\right) \n",
    "  \\left(\n",
    "    \\begin{array}{c}\n",
    "      \\psi_1^n \\\\\n",
    "      \\psi_2^n \\\\\n",
    "      \\vdots \\\\\n",
    "      \\psi_J^n\n",
    "    \\end{array}\n",
    "  \\right) \\equiv c \\boldsymbol{B} \\ \\boldsymbol{\\psi}^n $$"
   ]
  },
  {
   "cell_type": "markdown",
   "metadata": {},
   "source": [
    "Hence, the eigen problem becomes:\n",
    "\n",
    "$$ \\boldsymbol{B}^{-1} \\boldsymbol{A} \\boldsymbol{\\psi}^n = c \\ \\boldsymbol{\\psi}^n $$"
   ]
  },
  {
   "cell_type": "markdown",
   "metadata": {
    "collapsed": true
   },
   "source": [
    "### i."
   ]
  },
  {
   "cell_type": "markdown",
   "metadata": {},
   "source": [
    "Solve for the eigenvalues and eigenvectors of $A$"
   ]
  },
  {
   "cell_type": "code",
   "execution_count": 5,
   "metadata": {
    "collapsed": true
   },
   "outputs": [],
   "source": [
    "N = np.arange(1, 28).astype(int)\n",
    "m = N / a"
   ]
  },
  {
   "cell_type": "code",
   "execution_count": 6,
   "metadata": {
    "collapsed": false
   },
   "outputs": [],
   "source": [
    "c_FGM = np.zeros( len(m), dtype=complex )\n",
    "psi_FGM = np.zeros( (J, len(m)), dtype=complex )\n",
    "\n",
    "for i in range(len(m)):\n",
    "    A = np.zeros( (J, J) )\n",
    "    B = A.copy()\n",
    "\n",
    "    for j in range(J):\n",
    "        if j == 0:\n",
    "            A[j, j] = - 2.*ubar[j]/delta**2 + qbar_y[j] - m[i]**2*ubar[j]\n",
    "            A[j, j+1] = ubar[j]/delta**2\n",
    "        elif j < J-1 and j > 0:\n",
    "            A[j, j] = - 2.*ubar[j]/delta**2 + qbar_y[j] - m[i]**2*ubar[j]\n",
    "            A[j, j-1] = ubar[j]/delta**2\n",
    "            A[j, j+1] = ubar[j]/delta**2\n",
    "        else:\n",
    "            A[j, j] = - 2.*ubar[j]/delta**2 + qbar_y[j] - m[i]**2*ubar[j]\n",
    "            A[j, j-1] = 2.*ubar[j]/delta**2\n",
    "            \n",
    "    for j in range(J):\n",
    "        if j == 0:\n",
    "            B[j, j] = - 2./delta**2 - m[i]**2\n",
    "            B[j, j+1] = 1./delta**2\n",
    "        elif j < J-1 and j > 0:\n",
    "            B[j, j] = - 2./delta**2 - m[i]**2\n",
    "            B[j, j-1] = 1./delta**2\n",
    "            B[j, j+1] = 1./delta**2\n",
    "        else:\n",
    "            B[j, j] = - 2./delta**2 - m[i]**2\n",
    "            B[j, j-1] = 2./delta**2\n",
    "            \n",
    "    c, psi = lin.eig( np.dot(lin.inv(B), A) )\n",
    "    \n",
    "#     if i == 2:\n",
    "#         print c\n",
    "    \n",
    "# Rearange the column vectors so that the eigenvector corresponding to the largest imagenary part in the eigen values comes to the leftend\n",
    "    eigen_id = np.argsort( c.imag )[::-1]     \n",
    "    \n",
    "    psi = psi[:, eigen_id]\n",
    "    c_FGM[i] = c[eigen_id][0]\n",
    "    psi_FGM[:, i] = psi[:, 0]\n",
    "    \n",
    "    \n",
    "c_FGM[ c_FGM.real==0. ] = np.nan\n",
    "c_FGM[ c_FGM.imag==0. ] = np.nan"
   ]
  },
  {
   "cell_type": "code",
   "execution_count": 7,
   "metadata": {
    "collapsed": false
   },
   "outputs": [
    {
     "data": {
      "text/plain": [
       "<matplotlib.text.Text at 0x10852dc90>"
      ]
     },
     "execution_count": 7,
     "metadata": {},
     "output_type": "execute_result"
    },
    {
     "data": {
      "image/png": "[encoded data removed]",
      "text/plain": [
       "<matplotlib.figure.Figure at 0x1079570d0>"
      ]
     },
     "metadata": {},
     "output_type": "display_data"
    }
   ],
   "source": [
    "f = plt.figure( figsize=(12, 6) )\n",
    "\n",
    "plt.suptitle(r'Amplitude of $c_i$, $c_r$ and $mc_i$ against the zonal wavenumber', fontsize=16)\n",
    "\n",
    "gs1 = GridSpec(3, 3)\n",
    "gs1.update(hspace=0.2, wspace=0.4)\n",
    "ax1 = plt.subplot(gs1[0, 0])\n",
    "ax2 = plt.subplot(gs1[1:, 0])\n",
    "ax3 = plt.subplot(gs1[:, 1:])\n",
    "\n",
    "ax1.plot( N, c_FGM.real, 'k' )\n",
    "ax1.set_ylabel(r'c$_{real}$ [m/sec]', fontsize=14)\n",
    "ax1.set_xticklabels('')\n",
    "\n",
    "ax2.plot( N, c_FGM.imag*1e2, 'k' )\n",
    "ax2.set_ylabel(r'c$_{imag}$ [cm/sec]', fontsize=14)\n",
    "ax2.set_xlabel(r'$N \\ (= a m)$', fontsize=16)\n",
    "\n",
    "ax3.plot( N, m*c_FGM.imag*24.*3600., 'k' )\n",
    "ax3.set_ylabel(r'm c$_{imag}$ [days$^{-1}$]', fontsize=14)\n",
    "ax3.set_xlabel(r'$N \\ (= a m)$', fontsize=16)"
   ]
  },
  {
   "cell_type": "markdown",
   "metadata": {},
   "source": [
    "### ii."
   ]
  },
  {
   "cell_type": "markdown",
   "metadata": {},
   "source": [
    "For $\\eta = 0$, the tropopause becomes\n",
    "\n",
    "$$ y_c = \\frac{\\Gamma}{\\beta} $$\n",
    "\n",
    "and the normalized squared amplitude of the streamfunction is\n",
    "\n",
    "$$ |\\breve{\\psi}_j|^2 = \\frac{2J+1}{|\\psi_{J}|^2+2\\sum_{i=0}^{J-1} |\\psi_i|^2} |\\psi_j|^2 $$"
   ]
  },
  {
   "cell_type": "code",
   "execution_count": 10,
   "metadata": {
    "collapsed": false
   },
   "outputs": [],
   "source": [
    "# The psi_func funtion is defined later on in the notebook\n",
    "\n",
    "y_J16, delta_J16, psi_a2_J16, c_a2_J16, m_a2_J16, N_a2_J16, ubar_a2_J16, qbar_a2_J16 = psi_func(J=16)"
   ]
  },
  {
   "cell_type": "code",
   "execution_count": 11,
   "metadata": {
    "collapsed": false,
    "scrolled": false
   },
   "outputs": [
    {
     "data": {
      "text/plain": [
       "<matplotlib.legend.Legend at 0x10847cc50>"
      ]
     },
     "execution_count": 11,
     "metadata": {},
     "output_type": "execute_result"
    },
    {
     "data": {
      "image/png": "[encoded data removed]",
      "text/plain": [
       "<matplotlib.figure.Figure at 0x108e67f10>"
      ]
     },
     "metadata": {},
     "output_type": "display_data"
    }
   ],
   "source": [
    "crit_lev_9 = y[np.argmin( np.abs(c_FGM.real[8] - ubar) )] * np.ones(N[-1])\n",
    "crit_lev_14 = y[np.argmin( np.abs(c_FGM.real[13] - ubar) )] * np.ones(N[-1])\n",
    "crit_lev_9_J16 = y_J16[np.argmin( np.abs(c_a2_J16.real[8] - ubar_a2_J16) )] * np.ones(N[-1])\n",
    "crit_lev_14_J16 = y_J16[np.argmin( np.abs(c_a2_J16.real[13] - ubar_a2_J16) )] * np.ones(N[-1])\n",
    "y_c = Gamma/beta_eq * np.ones(N[-1])\n",
    "x_for_crit = np.linspace(0., 2.5e0, N[-1])\n",
    "\n",
    "fig = plt.figure( figsize=(12,7) )\n",
    "\n",
    "plt.suptitle(r'Normalized $|\\psi|$', fontsize=15)\n",
    "\n",
    "ax1 = fig.add_subplot(121)\n",
    "ax1.plot(np.sqrt( np.abs(psi_FGM[:, 8])/( np.abs(psi_FGM[-1, 8]) + 2*(np.abs(psi_FGM[:-1, 8])).sum() )*(2*J + 1) ), \n",
    "                 y*1e-3, 'b', label=r'$|\\psi| \\ (N, J) = (9, 101)$')\n",
    "ax1.plot(np.sqrt( np.abs(psi_FGM[:, 8])/( np.abs(psi_FGM[-1, 8]) + 2*(np.abs(psi_FGM[:-1, 8])).sum() )*(2*J + 1) ), \n",
    "                 - y*1e-3, 'b')\n",
    "ax1.plot(np.sqrt( np.abs(psi_a2_J16[:, 8])/( np.abs(psi_a2_J16[-1, 8]) + 2*(np.abs(psi_a2_J16[:-1, 8])).sum() )*(2*16 + 1) ), \n",
    "                 y_J16*1e-3, 'r', label=r'$|\\psi| \\ (N, J) = (9, 16)$')\n",
    "ax1.plot(np.sqrt( np.abs(psi_a2_J16[:, 8])/( np.abs(psi_a2_J16[-1, 8]) + 2*(np.abs(psi_a2_J16[:-1, 8])).sum() )*(2*16 + 1) ), \n",
    "                 - y_J16*1e-3, 'r')\n",
    "ax1.plot(x_for_crit, crit_lev_9*1e-3, 'b--', label=r'crit level $(N, J)=(9,101)$')\n",
    "ax1.plot(x_for_crit, -crit_lev_9*1e-3, 'b--')\n",
    "ax1.plot(x_for_crit, crit_lev_9_J16*1e-3, 'r--', label=r'crit level $(N, J)=(9,16)$')\n",
    "ax1.plot(x_for_crit, -crit_lev_9_J16*1e-3, 'r--')\n",
    "ax1.plot(x_for_crit, y_c*1e-3, 'k-.', label=r'$\\pm y_c$')\n",
    "ax1.plot(x_for_crit, -y_c*1e-3, 'k-.')\n",
    "ax1.set_ylabel(r'[km]', fontsize=13)\n",
    "ax1.set_xlabel(r'$|\\psi|$', fontsize=15)\n",
    "plt.legend(loc='upper right', fontsize=13)\n",
    "\n",
    "ax2 = fig.add_subplot(122)\n",
    "ax2.plot(np.sqrt( np.abs(psi_FGM[:, 13])/( np.abs(psi_FGM[-1, 13]) + 2*(np.abs(psi_FGM[:-1, 13])).sum() )*(2*J + 1) ), \n",
    "                 y*1e-3, 'b', label=r'$|\\psi| \\ (N, J) = (14, 101)$')\n",
    "ax2.plot(np.sqrt( np.abs(psi_FGM[:, 13])/( np.abs(psi_FGM[-1, 13]) + 2*(np.abs(psi_FGM[:-1, 13])).sum() )*(2*J + 1) ), \n",
    "                 - y*1e-3, 'b')\n",
    "ax2.plot(np.sqrt( np.abs(psi_a2_J16[:, 13])/( np.abs(psi_a2_J16[-1, 13]) + 2*(np.abs(psi_a2_J16[:-1, 13])).sum() )*(2*16 + 1) ), \n",
    "                 y_J16*1e-3, 'r', label=r'$|\\psi| \\ (N, J) = (14, 16)$')\n",
    "ax2.plot(np.sqrt( np.abs(psi_a2_J16[:, 13])/( np.abs(psi_a2_J16[-1, 13]) + 2.*(np.abs(psi_a2_J16[:-1, 13])).sum() )*(2*16 + 1) ), \n",
    "                 - y_J16*1e-3, 'r')\n",
    "ax2.plot(x_for_crit, crit_lev_14*1e-3, 'b--', label=r'crit level $(N, J)=(14,101)$')\n",
    "ax2.plot(x_for_crit, -crit_lev_14*1e-3, 'b--')\n",
    "ax2.plot(x_for_crit, crit_lev_14_J16*1e-3, 'r--', label=r'crit level $(N, J)=(14,16)$')\n",
    "ax2.plot(x_for_crit, -crit_lev_14_J16*1e-3, 'r--')\n",
    "ax2.plot(x_for_crit, y_c*1e-3, 'k-.', label=r'$\\pm y_c$')\n",
    "ax2.plot(x_for_crit, -y_c*1e-3, 'k-.')\n",
    "ax2.set_ylabel(r'[km]', fontsize=13)\n",
    "ax2.set_xlabel(r'$|\\psi|$', fontsize=15)\n",
    "plt.legend(loc='upper right', fontsize=13)"
   ]
  },
  {
   "cell_type": "markdown",
   "metadata": {
    "collapsed": true
   },
   "source": [
    "#### Comments\n",
    "\n",
    "For $"
   ]
  },
  {
   "cell_type": "code",
   "execution_count": null,
   "metadata": {
    "collapsed": true
   },
   "outputs": [],
   "source": []
  },
  {
   "cell_type": "markdown",
   "metadata": {
    "collapsed": true
   },
   "source": [
    "### iii."
   ]
  },
  {
   "cell_type": "code",
   "execution_count": 43,
   "metadata": {
    "collapsed": false
   },
   "outputs": [
    {
     "name": "stdout",
     "output_type": "stream",
     "text": [
      "N corresponding to the fastest-growing mode is:  12\n"
     ]
    }
   ],
   "source": [
    "sigma = c_FGM.imag * m\n",
    "N_FGM = N[np.argmax(sigma)]\n",
    "print 'N corresponding to the fastest-growing mode is: ', N_FGM"
   ]
  },
  {
   "cell_type": "code",
   "execution_count": 31,
   "metadata": {
    "collapsed": false
   },
   "outputs": [
    {
     "data": {
      "text/plain": [
       "<matplotlib.legend.Legend at 0x10b5c3e10>"
      ]
     },
     "execution_count": 31,
     "metadata": {},
     "output_type": "execute_result"
    },
    {
     "data": {
      "image/png": "[encoded data removed]",
      "text/plain": [
       "<matplotlib.figure.Figure at 0x10b3a3850>"
      ]
     },
     "metadata": {},
     "output_type": "display_data"
    }
   ],
   "source": [
    "crit_lev_12 = y[np.argmin( np.abs(c_FGM.real[11] - ubar) )] * np.ones(N[-1])\n",
    "x_for_crit = np.linspace(0., 4e0, N[-1])\n",
    "\n",
    "fig = plt.figure( figsize=(12,7) )\n",
    "\n",
    "ax1 = fig.add_subplot(121)\n",
    "ax1.plot(np.abs(psi_FGM[:, 2])/( np.abs(psi_FGM[-1, 2]) + 2*(np.abs(psi_FGM[:-1, 2])).sum() )*(2*J+1), \n",
    "        y*1e-3, 'r--', label=r'$N=3$')\n",
    "ax1.plot(np.abs(psi_FGM[:, 11])/( np.abs(psi_FGM[-1, 11]) + 2*(np.abs(psi_FGM[:-1, 11])).sum() )*(2*J+1), \n",
    "        y*1e-3, 'b', label=r'$N=12$ (Fastest-growing)')\n",
    "ax1.plot(np.abs(psi_FGM[:, 2])/( np.abs(psi_FGM[-1, 2]) + 2*(np.abs(psi_FGM[:-1, 2])).sum() )*(2*J+1), \n",
    "        - y*1e-3, 'r--')\n",
    "ax1.plot(np.abs(psi_FGM[:, 11])/( np.abs(psi_FGM[-1, 11]) + 2*(np.abs(psi_FGM[:-1, 11])).sum() )*(2*J+1), \n",
    "        - y*1e-3, 'b')\n",
    "ax1.plot(x_for_crit, crit_lev_12*1e-3, 'k--', label=r'crit level ($N=12$)')\n",
    "ax1.plot(x_for_crit, -crit_lev_12*1e-3, 'k--')\n",
    "ax1.plot(x_for_crit, y_c*1e-3, 'k-.', label=r'$\\pm y_c$')\n",
    "ax1.plot(x_for_crit, -y_c*1e-3, 'k-.')\n",
    "ax1.set_ylabel(r'[km]', fontsize=13)\n",
    "ax1.set_xlabel(r'$|\\psi|$', fontsize=15)\n",
    "plt.legend(loc='upper right', fontsize=13)"
   ]
  },
  {
   "cell_type": "markdown",
   "metadata": {},
   "source": [
    "### iv.\n",
    "\n",
    "Define function that solves for $\\psi$ and the eigen modes"
   ]
  },
  {
   "cell_type": "code",
   "execution_count": 9,
   "metadata": {
    "collapsed": true
   },
   "outputs": [],
   "source": [
    "def psi_func(N=np.arange(1,101).astype(int), L = 5e6, J = 101, u0=-25e0, Gamma=1e-5, \n",
    "             omega=gsw.earth.OMEGA, a=gsw.earth.earth_radius):\n",
    "    \n",
    "    delta = .5*L / J\n",
    "    y = np.arange( -.5*L+delta, delta, delta )\n",
    "    y_ext = np.arange( -.5*L+delta, .5*L, delta )\n",
    "\n",
    "    beta_eq = 2.*omega/a\n",
    "    \n",
    "    ubar = u0 - Gamma * y\n",
    "\n",
    "    ubar_ext = y_ext.copy()\n",
    "    ubar_ext[:] = 0.\n",
    "    ubar_ext[:J] = ubar\n",
    "    ubar_ext[J:] = u0 + Gamma * y_ext[J:]\n",
    "\n",
    "    qbar = beta_eq * y + Gamma\n",
    "    qbar_y = qbar.copy()\n",
    "    qbar_y[:-1] = beta_eq\n",
    "    qbar_y[-1] = beta_eq - (ubar_ext[J-2]-2.*ubar_ext[J-1]+ubar_ext[J])/delta**2\n",
    "\n",
    "    m = N / a\n",
    "\n",
    "    c_FGM = np.zeros( len(m), dtype=complex )\n",
    "    psi_FGM = np.zeros( (J, len(m)), dtype=complex )\n",
    "\n",
    "    for i in range(len(m)):\n",
    "        A = np.zeros((J, J))\n",
    "        B = A.copy()\n",
    "\n",
    "        for j in range(J):\n",
    "            if j == 0:\n",
    "                A[j, j] = - 2.*ubar[j]/delta**2 + qbar_y[j] - m[i]**2*ubar[j]\n",
    "                A[j, j+1] = ubar[j]/delta**2\n",
    "            elif j < J-1 and j > 0:\n",
    "                A[j, j] = - 2.*ubar[j]/delta**2 + qbar_y[j] - m[i]**2*ubar[j]\n",
    "                A[j, j-1] = ubar[j]/delta**2\n",
    "                A[j, j+1] = ubar[j]/delta**2\n",
    "            else:\n",
    "                A[j, j] = - 2.*ubar[j]/delta**2 + qbar_y[j] - m[i]**2*ubar[j]\n",
    "                A[j, j-1] = 2.*ubar[j]/delta**2\n",
    "            \n",
    "        for j in range(J):\n",
    "            if j == 0:\n",
    "                B[j, j] = - 2./delta**2 - m[i]**2\n",
    "                B[j, j+1] = 1./delta**2\n",
    "            elif j < J-1 and j > 0:\n",
    "                B[j, j] = - 2./delta**2 - m[i]**2\n",
    "                B[j, j-1] = 1./delta**2\n",
    "                B[j, j+1] = 1./delta**2\n",
    "            else:\n",
    "                B[j, j] = - 2./delta**2 - m[i]**2\n",
    "                B[j, j-1] = 2./delta**2\n",
    "            \n",
    "        c, psi = lin.eig( np.dot(lin.inv(B), A) )\n",
    "    \n",
    "# Rearange the column vectors so that the eigenvector corresponding to the largest imagenary part in the eigen values comes to the leftend\n",
    "        eigen_id = np.argsort( c.imag )[::-1]     \n",
    "    \n",
    "        psi = psi[:, eigen_id]\n",
    "        c_FGM[i] = c[eigen_id][0]\n",
    "        psi_FGM[:, i] = psi[:, 0]\n",
    "    \n",
    "    \n",
    "    c_FGM[ c_FGM.real==0. ] = np.nan\n",
    "    c_FGM[ c_FGM.imag==0. ] = np.nan\n",
    "    \n",
    "    return y, delta, psi_FGM, c_FGM, m, N, ubar, qbar"
   ]
  },
  {
   "cell_type": "code",
   "execution_count": 65,
   "metadata": {
    "collapsed": false
   },
   "outputs": [],
   "source": [
    "y, delta, psi_a3, c_a3, m_a3, N_a3, ubar, qbar = psi_func() "
   ]
  },
  {
   "cell_type": "code",
   "execution_count": 66,
   "metadata": {
    "collapsed": false
   },
   "outputs": [
    {
     "data": {
      "text/plain": [
       "<matplotlib.text.Text at 0x10cb3fd50>"
      ]
     },
     "execution_count": 66,
     "metadata": {},
     "output_type": "execute_result"
    },
    {
     "data": {
      "image/png": "[encoded data removed]",
      "text/plain": [
       "<matplotlib.figure.Figure at 0x10ca629d0>"
      ]
     },
     "metadata": {},
     "output_type": "display_data"
    }
   ],
   "source": [
    "f = plt.figure( figsize=(12, 6) )\n",
    "\n",
    "plt.suptitle(r'Amplitude of $c_i$, $c_r$ and $mc_i$ against the zonal wavenumber', fontsize=16)\n",
    "\n",
    "gs1 = GridSpec(3, 3)\n",
    "gs1.update(hspace=0.2, wspace=0.4)\n",
    "ax1 = plt.subplot(gs1[0, 0])\n",
    "ax2 = plt.subplot(gs1[1:, 0])\n",
    "ax3 = plt.subplot(gs1[:, 1:])\n",
    "\n",
    "ax1.plot( N_a3, c_a3.real, 'k' )\n",
    "ax1.set_ylabel(r'c$_{real}$ [m/sec]', fontsize=14)\n",
    "ax1.set_xticklabels('')\n",
    "\n",
    "ax2.plot( N_a3, c_a3.imag*1e2, 'k' )\n",
    "ax2.set_ylabel(r'c$_{imag}$ [cm/sec]', fontsize=14)\n",
    "ax2.set_xlabel(r'$N \\ (= a m)$', fontsize=16)\n",
    "\n",
    "ax3.plot( N_a3, m_a3*c_a3.imag*24.*3600., 'k' )\n",
    "ax3.set_ylabel(r'm c$_{imag}$ [days$^{-1}$]', fontsize=14)\n",
    "ax3.set_xlabel(r'$N \\ (= a m)$', fontsize=16)"
   ]
  },
  {
   "cell_type": "code",
   "execution_count": 79,
   "metadata": {
    "collapsed": false
   },
   "outputs": [
    {
     "name": "stdout",
     "output_type": "stream",
     "text": [
      "4.0550690273 20.6612815956\n"
     ]
    }
   ],
   "source": [
    "print 1./(m_a3*c_a3.imag).max()/24./36e2, 1./(m_a3[99]*c_a3.imag[99])/24./36e2"
   ]
  },
  {
   "cell_type": "markdown",
   "metadata": {},
   "source": [
    "#### Comments\n",
    "\n",
    "The eigenvalue for $N=100$ has a positive imaginary part so it is unstable. Since the growing component of the wave is $e^{\\ \\sigma t} = e^{\\ m c_i t}$, the $e$-folding time is defined as $t_e = \\frac{1}{m c_i}$. Thus, for the fastest-growing mode $(N=12)$ is $4.06$ days whileas for $N=100$, it is $20.7$ days."
   ]
  },
  {
   "cell_type": "markdown",
   "metadata": {},
   "source": [
    "### v."
   ]
  },
  {
   "cell_type": "markdown",
   "metadata": {
    "collapsed": true
   },
   "source": [
    "From question (a) iii. the critical level is closer to the equator than $y_c$ (equivalent of the tropopause in the Charney problem), which implies the existance of evanesence modes between the critical level and $y_c$. As for the fastest-growing mode, the eigenfunction amplitude is concentrated close to $y=0$ (equivalent to the surface in the Charney problem). Unlike non-linear instability, linear instability cannot remove the surface temperature gradient so instability is condined to the surface."
   ]
  },
  {
   "cell_type": "code",
   "execution_count": null,
   "metadata": {
    "collapsed": true
   },
   "outputs": [],
   "source": []
  },
  {
   "cell_type": "markdown",
   "metadata": {
    "collapsed": true
   },
   "source": [
    "## (b)\n",
    "\n",
    "### i."
   ]
  },
  {
   "cell_type": "markdown",
   "metadata": {},
   "source": [
    "Since $\\bar{q}$ is continuous at $y = y_c$, using equation (12) and (13), we get\n",
    "\n",
    "$$ \\beta y_c - \\Gamma = \\eta y_c \\ \\ \\ \\ \\therefore y_c = \\frac{\\Gamma}{\\beta - \\eta} $$"
   ]
  },
  {
   "cell_type": "markdown",
   "metadata": {},
   "source": [
    "### ii."
   ]
  },
  {
   "cell_type": "markdown",
   "metadata": {},
   "source": [
    "From conservation of enstrophy, we have\n",
    "\n",
    "$$ \\langle \\overline{q}_i^2 \\rangle = \\langle \\overline{q}_f^2 \\rangle + \\langle \\overline{q_f'^2} \\rangle $$"
   ]
  },
  {
   "cell_type": "markdown",
   "metadata": {},
   "source": [
    "Now,\n",
    "\n",
    "$$ L \\langle \\overline{q}_i^2 \\rangle = \\int_{-L/2}^0 (\\beta y + \\Gamma )^2 \\ dy \\ \\ \\ (-L/2<y<0) $$\n",
    "\n",
    "$$ L \\langle \\overline{q}_i^2 \\rangle = \\int_{-L/2}^0 (\\beta y - \\Gamma )^2 \\ dy \\ \\ \\ \\ (0<y<L/2) $$\n",
    "\n",
    "and\n",
    "\n",
    "$$ L \\langle \\overline{q}_f^2 \\rangle = \\int_{-L/2}^{-y_c} ( \\beta y + \\Gamma )^2 \\ dy \\ \\ \\ (-L/2<y<-y_c) $$\n",
    "\n",
    "$$ L \\langle \\overline{q}_f^2 \\rangle = \\int_{-y_c}^{y_c} ( \\eta y )^2 \\ dy \\ \\ \\ \\ \\ \\ \\ \\ \\ \\ (-y_c<y<y_c) $$\n",
    "\n",
    "$$ L \\langle \\overline{q}_f^2 \\rangle = \\int_{y_c}^{L/2} ( \\beta y - \\Gamma )^2 \\ dy \\ \\ \\ \\ \\ \\ (y_c<y<L/2) $$"
   ]
  },
  {
   "cell_type": "markdown",
   "metadata": {
    "collapsed": true
   },
   "source": [
    "Thus,\n",
    "\n",
    "$$ L \\langle \\overline{q}_i^2 \\rangle = \\big[ \\frac{1}{3} \\beta^2 y^3 + \\Gamma \\beta y^2 + \\Gamma^2 y \\big]^0_{-L/2} + \\big[ \\frac{1}{3} \\beta^2 y^3 - \\Gamma \\beta y^2 + \\Gamma^2 y \\big]_0^{L/2} = \\frac{2}{3} \\beta^2 \\big( \\frac{L}{2} \\big)^3 - 2 \\Gamma \\beta \\big( \\frac{L}{2} \\big)^2 + \\Gamma^2 L $$\n",
    "\n",
    "$$ L \\langle \\overline{q}_f^2 \\rangle = \\big[ \\frac{1}{3} \\beta^2 y^3 + \\Gamma \\beta y^2 + \\Gamma^2 y \\big]^{-y_c}_{-L/2} + \\big[ \\frac{1}{3} \\eta^2 y^3 \\big]^{y_c}_{-y_c} + \\big[ \\frac{1}{3} \\beta^2 y^3 - \\Gamma \\beta y^2 + \\Gamma^2 y \\big]_{y_c}^{-L/2}$$\n",
    "\n",
    "$$ = \\frac{2}{3} \\beta^2 \\big( \\frac{L}{2} \\big)^3 - 2 \\Gamma \\beta \\big( \\frac{L}{2} \\big)^2 + \\Gamma^2 L - \\frac{2}{3} \\beta^2 y_c^3 + 2 \\Gamma \\beta y_c^2 - 2\\Gamma^2 y_c + \\frac{2}{3} \\eta^2 y_c^3 $$"
   ]
  },
  {
   "cell_type": "markdown",
   "metadata": {},
   "source": [
    "$$ \\therefore \\ \\ \\ \\  L \\big( \\langle \\overline{q}_i^2 \\rangle - \\langle \\overline{q}_f^2 \\rangle \\big) = \\frac{2}{3} \\beta^2 {y_c}^3 - 2 \\Gamma \\beta {y_c}^2 + 2\\Gamma^2 y_c - \\frac{2}{3} \\eta^2 {y_c}^3 $$\n",
    "\n",
    "$$ = \\frac{2}{3} \\beta^2 \\big( \\frac{\\Gamma}{\\beta - \\eta} \\big)^3 - 2 \\Gamma \\beta \\big( \\frac{\\Gamma}{\\beta - \\eta} \\big)^2 + 2\\Gamma^2 \\frac{\\Gamma}{\\beta - \\eta} - \\frac{2}{3} \\eta^2 \\big( \\frac{\\Gamma}{\\beta - \\eta} \\big)^3 $$\n",
    "\n",
    "$$ \\frac{\\Gamma}{\\beta - \\eta} \\bigg[ \\frac{2}{3} \\beta^2 \\big( \\frac{\\Gamma}{\\beta - \\eta} \\big)^2 - 2 \\Gamma \\beta \\big( \\frac{\\Gamma}{\\beta - \\eta} \\big) + 2\\Gamma^2 - \\frac{2}{3} \\eta^2 \\big( \\frac{\\Gamma}{\\beta - \\eta} \\big)^2 \\bigg] $$\n",
    "\n",
    "$$ = \\frac{\\Gamma}{\\beta - \\eta} \\frac{2\\beta^2\\Gamma^2 - 6\\Gamma^2\\beta (\\beta - \\eta) + 6\\Gamma^2 (\\beta - \\eta)^2 - 2\\eta^2\\Gamma^2}{3 (\\beta - \\eta)^2} $$\n",
    "\n",
    "$$ = \\frac{2\\Gamma^3}{3(\\beta - \\eta)} \\frac{\\beta^2 - 3\\eta\\beta + 2\\eta^2}{(\\beta - \\eta)^2} $$\n",
    "\n",
    "$$ = \\frac{2\\Gamma^3 (\\beta - 2\\eta)}{3(\\beta - \\eta)^2} $$"
   ]
  },
  {
   "cell_type": "markdown",
   "metadata": {},
   "source": [
    "and we get\n",
    "\n",
    "$$ \\langle \\overline{q_f'^2} \\rangle = \\langle \\overline{q}_i^2 \\rangle - \\langle \\overline{q}_f^2 \\rangle = \\frac{2\\Gamma^3 \\ (\\beta - 2\\eta)}{3L \\ (\\beta - \\eta)^2} $$"
   ]
  },
  {
   "cell_type": "markdown",
   "metadata": {
    "collapsed": true
   },
   "source": [
    "### iii."
   ]
  },
  {
   "cell_type": "markdown",
   "metadata": {},
   "source": [
    "We shall take the derivative of $\\langle \\overline{q_f'^2} \\rangle$ respective to $\\eta$. Defining\n",
    "\n",
    "$$ f(\\eta) = \\frac{\\beta - 2\\eta}{(\\beta - \\eta)^2} $$\n",
    "\n",
    "we have \n",
    "\n",
    "$$ \\frac{\\partial f}{\\partial \\eta} = \\frac{-2(\\beta - \\eta)^2 + (\\beta - 2\\eta) \\cdot 2(\\beta - \\eta)}{(\\beta - \\eta)^4}$$ \n",
    "\n",
    "$$ = 2 \\frac{- (\\beta - \\eta) + (\\beta - 2\\eta}{(\\beta - \\eta)^3} = 2 \\frac{- \\eta}{(\\beta - \\eta)^3} $$"
   ]
  },
  {
   "cell_type": "markdown",
   "metadata": {},
   "source": [
    "|   $\\eta$  | $\\cdots$ |   0   | $\\cdots$ |  $\\beta$  |\n",
    "|------|------|------|\n",
    "|  $\\frac{\\partial f}{\\partial \\eta}$  | $+$ |   0   | $-$ |      |\n",
    "|    $f$  | $\\nearrow$ | 1 | $\\searrow$ |       |"
   ]
  },
  {
   "cell_type": "markdown",
   "metadata": {},
   "source": [
    "From the derivative sign chart above, we see that $\\langle \\overline{q_f'^2} \\rangle$ is largest for $\\eta=0$."
   ]
  },
  {
   "cell_type": "markdown",
   "metadata": {},
   "source": [
    "### iv."
   ]
  },
  {
   "cell_type": "markdown",
   "metadata": {},
   "source": [
    "$$\\bar{q}_f = \\beta y + \\Gamma \\ \\ \\ \\ (-L/2 < y < -y_c)$$\n",
    "\n",
    "$$\\bar{q}_f = \\eta y \\ \\ \\ \\ \\ \\ \\ (-y_c < y < y_c)$$\n",
    "\n",
    "$$\\bar{q}_f = \\beta y - \\Gamma \\ \\ \\ \\ \\ (y_c < y < L/2)$$\n",
    "\n",
    "and using $\\partial \\bar{u}/\\partial y = \\beta y - \\bar{q}_f$, we have\n",
    "\n",
    "$$ \\bar{u}_i = u_0 + \\sum_{j=0}^i (\\beta y_j - {\\bar{q}_f}_j) \\Delta y $$"
   ]
  },
  {
   "cell_type": "code",
   "execution_count": 14,
   "metadata": {
    "collapsed": false
   },
   "outputs": [
    {
     "name": "stdout",
     "output_type": "stream",
     "text": [
      "82 118\n"
     ]
    }
   ],
   "source": [
    "eta = 0.\n",
    "y_c = Gamma/beta_eq\n",
    "\n",
    "i_cL = np.argmin( np.abs(y_ext + y_c) )\n",
    "i_cH = np.argmin( np.abs(y_ext - y_c) )\n",
    "\n",
    "print i_cL, i_cH"
   ]
  },
  {
   "cell_type": "code",
   "execution_count": 25,
   "metadata": {
    "collapsed": false
   },
   "outputs": [],
   "source": [
    "ubar_f = np.zeros( y_ext.shape )\n",
    "dy = np.ones( y_ext.shape ) * delta\n",
    "\n",
    "ubar_f[:i_cL+1] = u0 + np.cumsum( - Gamma * dy[:i_cL+1] )\n",
    "ubar_f[i_cL+1:i_cH+1] = ubar_f[i_cL]\n",
    "ubar_f[i_cH+1:] = ubar_f[i_cH] + np.cumsum( Gamma * dy[i_cH+1:] )"
   ]
  },
  {
   "cell_type": "code",
   "execution_count": 26,
   "metadata": {
    "collapsed": false,
    "scrolled": false
   },
   "outputs": [
    {
     "data": {
      "text/plain": [
       "(array([-3000., -2000., -1000.,     0.,  1000.,  2000.,  3000.]),\n",
       " <a list of 7 Text yticklabel objects>)"
      ]
     },
     "execution_count": 26,
     "metadata": {},
     "output_type": "execute_result"
    },
    {
     "data": {
      "image/png": "[encoded data removed]",
      "text/plain": [
       "<matplotlib.figure.Figure at 0x108e67250>"
      ]
     },
     "metadata": {},
     "output_type": "display_data"
    }
   ],
   "source": [
    "fig = plt.figure(figsize=(5, 8))\n",
    "\n",
    "ax = plt.gca()\n",
    "ax.plot(ubar_f, y_ext*1e-3, 'k')\n",
    "ax.set_title(r'Profile of $\\bar{u}$', fontsize=16)\n",
    "ax.set_ylabel(r'[km]', fontsize=14)\n",
    "ax.set_xlabel(r'[m/s]', fontsize=14)\n",
    "plt.xticks(fontsize=12)\n",
    "plt.yticks(fontsize=12)"
   ]
  },
  {
   "cell_type": "markdown",
   "metadata": {
    "collapsed": true
   },
   "source": [
    "### v."
   ]
  },
  {
   "cell_type": "code",
   "execution_count": null,
   "metadata": {
    "collapsed": true
   },
   "outputs": [],
   "source": []
  },
  {
   "cell_type": "code",
   "execution_count": null,
   "metadata": {
    "collapsed": true
   },
   "outputs": [],
   "source": []
  },
  {
   "cell_type": "code",
   "execution_count": null,
   "metadata": {
    "collapsed": true
   },
   "outputs": [],
   "source": []
  },
  {
   "cell_type": "markdown",
   "metadata": {},
   "source": [
    "### vi."
   ]
  },
  {
   "cell_type": "markdown",
   "metadata": {},
   "source": [
    "Since $ \\frac{\\Gamma}{\\beta} = y_c = \\frac{N}{f_0} z_c $, we get\n",
    "\n",
    "$$ z_c = \\frac{f_0 \\Gamma}{\\beta N} = \\frac{a \\Gamma}{N} \\frac{\\sin{\\theta_0}}{\\cos{\\theta_0}} = a \\tan{\\theta_0} \\frac{\\Gamma}{N} $$"
   ]
  },
  {
   "cell_type": "markdown",
   "metadata": {},
   "source": [
    "Now, \n",
    "\n",
    "$$ \\Gamma = \\frac{f_0}{N} \\frac{\\partial \\bar{u}}{\\partial z} = - \\frac{1}{N} \\frac{\\partial \\bar{b}}{\\partial y} = N \\frac{\\partial z}{\\partial y} \\bigg|_{\\bar{b}} $$\n",
    "\n",
    "where we have used the thermal wind equation $\\frac{\\partial \\bar{u}}{\\partial z} = \\frac{g}{\\rho_0 f_0} \\frac{\\partial \\bar{\\rho}}{\\partial y} = - \\frac{1}{f_0} \\frac{\\partial \\bar{b}}{\\partial y}$ and $\\frac{\\partial z}{\\partial y} \\Big|_{\\bar{b}} = - \\frac{\\frac{\\partial \\bar{b}}{\\partial y}}{\\frac{\\partial \\bar{b}}{\\partial z}}$. Thus, combining the two equations gives\n",
    "\n",
    "$$z_c = a \\tan{\\theta_0} \\frac{\\partial z}{\\partial y} \\bigg|_{\\bar{b}} $$"
   ]
  },
  {
   "cell_type": "code",
   "execution_count": null,
   "metadata": {
    "collapsed": true
   },
   "outputs": [],
   "source": []
  }
 ],
 "metadata": {
  "kernelspec": {
   "display_name": "Python 2",
   "language": "python",
   "name": "python2"
  },
  "language_info": {
   "codemirror_mode": {
    "name": "ipython",
    "version": 2
   },
   "file_extension": ".py",
   "mimetype": "text/x-python",
   "name": "python",
   "nbconvert_exporter": "python",
   "pygments_lexer": "ipython2",
   "version": "2.7.10"
  }
 },
 "nbformat": 4,
 "nbformat_minor": 0
}
