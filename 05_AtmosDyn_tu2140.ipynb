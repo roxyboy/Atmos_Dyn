{
 "cells": [
  {
   "cell_type": "markdown",
   "metadata": {},
   "source": [
    "# Question 1\n",
    "\n",
    "##(a)"
   ]
  },
  {
   "cell_type": "markdown",
   "metadata": {},
   "source": [
    "From equation (4) given in the homework set,\n",
    "\n",
    "$$\\frac{\\partial}{\\partial z} \\bigg[ \\frac{1}{\\tilde{\\rho}} \\frac{\\partial}{\\partial z} (\\tilde{\\rho} w') \\bigg] = - \\Big( \\frac{\\partial}{\\partial x} \\frac{\\partial u'}{\\partial z} + \\frac{\\partial}{\\partial y} \\frac{\\partial v'}{\\partial z} \\Big)$$"
   ]
  },
  {
   "cell_type": "markdown",
   "metadata": {},
   "source": [
    "Now writing equation (1)-(5) using the plane wave solution gives\n",
    "\n",
    "$$(-i \\omega + ik \\bar{U}) u' - fv' = -\\frac{\\partial \\Phi'}{\\partial x} \\ \\ \\ \\ \\ (1.a.1)$$\n",
    "\n",
    "$$(-i \\omega + ik \\bar{U}) v' + fu' = -\\frac{\\partial \\Phi'}{\\partial y} \\ \\ \\ \\ \\ (1.a.2)$$\n",
    "\n",
    "$$\\frac{\\partial}{\\partial z} \\bigg[ \\frac{1}{\\tilde{\\rho}} \\frac{\\partial}{\\partial z} (\\tilde{\\rho} w') \\bigg] = - \\frac{\\partial}{\\partial z} (iku' + ilv') \\ \\ \\ \\ \\ (1.a.3)$$\n",
    "\n",
    "$$0 = - \\frac{\\partial \\Phi'}{\\partial z} + b' \\ \\ \\ \\ \\ (1.a.4)$$\n",
    "\n",
    "$$(-i\\omega + ik\\bar{U}) b' + w' N^2 = -sb' \\ \\ \\ \\ \\ (1.a.5)$$"
   ]
  },
  {
   "cell_type": "markdown",
   "metadata": {
    "collapsed": true
   },
   "source": [
    "From equation $(1.a.5)$, we have\n",
    "\n",
    "$$b' = - \\frac{N^2}{ik(\\bar{U} -c) + s} w'$$\n",
    "\n",
    "and from equation $(1.a.1)$ and $(1.a.2)$, we have\n",
    "\n",
    "$$(-i \\omega + ik \\bar{U}) \\frac{\\partial u'}{\\partial z} - f \\frac{\\partial v'}{\\partial z} = - \\frac{\\partial}{\\partial x} \\frac{\\partial \\Phi'}{\\partial z} = - \\frac{\\partial b'}{\\partial x} = - ikb'$$\n",
    "\n",
    "$$f \\frac{\\partial u'}{\\partial z} + (-i\\omega + ik \\bar{U}) \\frac{\\partial v'}{\\partial z} = - \\frac{\\partial b'}{\\partial y} = -ilb'$$\n",
    "\n",
    "so $f \\times (1.a.1) - (-i\\omega + ik \\bar{U}) \\times (1.a.2)$ and $f \\times (1.a.2) + (-i\\omega + ik \\bar{U}) \\times (1.a.1)$ gives\n",
    "\n",
    "$$\\big( k^2 (\\bar{U}-c)^2 - f^2 \\big) v'_z = - \\big( ikf + kl (\\bar{U}-c) \\big)$$\n",
    "\n",
    "$$\\big( k^2 (\\bar{U}-c)^2 - f^2 \\big) u'_z = - \\big( ilf - k^2 (\\bar{U}-c) \\big)$$"
   ]
  },
  {
   "cell_type": "markdown",
   "metadata": {},
   "source": [
    "Thus, the right hand side of equation $(1.a.3)$ becomes\n",
    "\n",
    "$$ik u_z' + il v_z' = \\frac{b'}{k^2 (\\bar{U} - c)^2 - f^2} \\big[ ik (k^2+l^2) (\\bar{U} - c) \\big]$$\n",
    "\n",
    "and we get\n",
    "\n",
    "$$\\frac{\\partial}{\\partial z} \\bigg[ \\frac{1}{\\tilde{\\rho}} \\frac{\\partial}{\\partial z} (\\tilde{\\rho} w') \\bigg] = - \\frac{N^2 (k^2+l^2)}{k^2 (\\bar{U} - c)^2 - f^2} \\frac{ik (\\bar{U} - c)}{ik (\\bar{U} - c)^2 - f^2} w'$$"
   ]
  },
  {
   "cell_type": "markdown",
   "metadata": {
    "collapsed": true
   },
   "source": [
    "Now, plugging in $\\tilde{\\rho} = \\rho_0 e^{-z/H}$ and $w = \\tilde{w} e^{z/2H}$ in the left-hand side (LHS) of the equation above, we get\n",
    "\n",
    "$$LHS = \\frac{\\partial}{\\partial z} \\bigg[ \\frac{1}{\\rho_0} e^{z/H} \\frac{\\partial}{\\partial z} \\big(\\rho_0 \\tilde{w} e^{-z/2H}\\big) \\bigg]$$\n",
    "\n",
    "$$= \\frac{\\partial}{\\partial z} \\bigg[ e^{z/H} \\big(\\frac{\\partial \\tilde{w}}{\\partial z} e^{-z/2H} - \\frac{\\tilde{w}}{2H} e^{-z/2H}\\big) \\bigg]$$\n",
    "\n",
    "$$= \\frac{\\partial}{\\partial z} \\bigg( \\frac{\\partial \\tilde{w}}{\\partial z} e^{z/2H} - \\frac{\\tilde{w}}{2H} e^{z/2H} \\bigg)$$\n",
    "\n",
    "$$= \\frac{\\partial^2 \\tilde{w}}{\\partial z^2} e^{z/2H} - \\frac{\\tilde{w}}{4H^2} e^{z/2H}$$"
   ]
  },
  {
   "cell_type": "markdown",
   "metadata": {},
   "source": [
    "so equation (6) in the problem set becomes\n",
    "\n",
    "$$\\frac{\\partial^2 \\tilde{w}}{\\partial z^2} + \\bigg[ \\frac{N^2 (k^2+l^2)}{k^2 (\\bar{U} - c)^2 - f^2} \\frac{ik (\\bar{U} - c)}{ik (\\bar{U} - c)^2 - f^2} - \\frac{1}{4H^2} \\bigg] \\tilde{w} = 0$$"
   ]
  },
  {
   "cell_type": "markdown",
   "metadata": {},
   "source": [
    "## (b)"
   ]
  },
  {
   "cell_type": "markdown",
   "metadata": {},
   "source": [
    "When there is no damping and we prescribe a plane wave solution, equation (7) in the problem set becomes\n",
    "\n",
    "$$-m^2 w_0 + \\bigg( \\frac{N^2 (k^2 + l^2)}{k^2 (\\bar{U} - c)^2 - f^2} - \\frac{1}{4H^2} \\bigg) w_0 = 0$$\n",
    "\n",
    "$$\\therefore \\ \\ \\ \\frac{N^2 (k^2 + l^2)}{k^2 (\\bar{U} - \\frac{\\omega}{k})^2 - f^2} = m^2 + \\frac{1}{4H^2}$$\n",
    "\n",
    "which gives\n",
    "\n",
    "$$\\omega^2 - 2k\\bar{U}\\omega + k^2\\bar{U}^2 = f^2 + \\frac{N^2(k^2 + l^2)}{m^2 + \\frac{1}{4H^2}}$$\n",
    "\n",
    "$$\\therefore \\ \\ \\ (\\omega - k\\bar{U})^2 = f^2 + \\frac{N^2(k^2 + l^2)}{m^2 + \\frac{1}{4H^2}}$$\n",
    "\n",
    "and we get\n",
    "\n",
    "$$\\omega = k\\bar{U} \\pm \\sqrt{f^2 + \\frac{N^2(k^2 + l^2)}{m^2 + \\frac{1}{4H^2}}}$$"
   ]
  },
  {
   "cell_type": "markdown",
   "metadata": {},
   "source": [
    "## (c)"
   ]
  },
  {
   "cell_type": "markdown",
   "metadata": {},
   "source": [
    "Using the conditions given, the dispersion relation becomes\n",
    "\n",
    "$$\\omega = k\\bar{U} \\pm \\sqrt{\\frac{N^2 k^2}{k^2 + m^2}} \\ \\ \\ \\ \\therefore \\omega - k\\bar{U} = \\pm  \\sqrt{\\frac{N^2 k^2}{k^2 + m^2}} \\ \\ \\ \\ \\ (1.c.1)$$\n",
    "\n",
    "and under the approximation of $k \\ll m$ we get\n",
    "\n",
    "$$\\omega - k\\bar{U} = \\pm  \\frac{N k}{m} \\ \\ \\ \\ \\therefore m = \\pm \\frac{Nk}{\\omega - k \\bar{U}}$$"
   ]
  },
  {
   "cell_type": "markdown",
   "metadata": {},
   "source": [
    "Now, from equation (1.c.1), the phase velocities are\n",
    "\n",
    "$$\\frac{\\omega}{k} = \\bar{U} \\pm \\sqrt{\\frac{N^2}{k^2 + m^2}}, \\ \\ \\ \\frac{\\omega}{m} = \\bar{U} \\frac{k}{m} \\pm \\sqrt{\\frac{k^2}{m^2} \\frac{N^2}{k^2 + m^2}}$$"
   ]
  },
  {
   "cell_type": "markdown",
   "metadata": {},
   "source": [
    "and the group velocities are\n",
    "\n",
    "$$\\frac{\\partial \\omega}{\\partial k} = \\bar{U} \\pm \\frac{N m^2}{(k^2 + m^2)^{3/2}}, \\ \\ \\ \\frac{\\partial \\omega}{\\partial m} = \\mp \\frac{N k m}{(k^2 + m^2)^{3/2}}$$"
   ]
  },
  {
   "cell_type": "markdown",
   "metadata": {},
   "source": [
    "For an observer moving with the wind, the vertical phase and group velocities are \n",
    "\n",
    "$$c^z = \\pm \\frac{Nk}{m} \\frac{1}{\\sqrt{k^2 + m^2}}, \\ \\ \\ c_g^z = \\mp \\frac{N k m}{(k^2 + m^2)^{3/2}} = - \\frac{m^2}{k^2 + m^2} c^z$$\n",
    "\n",
    "so they are in the opposite direction to each other. \n",
    "\n",
    "\n",
    "Under the approximation $k \\ll m$, the group velocity for negative $m \\ \\big( = -\\frac{Nk}{\\omega - k \\bar{U}} \\ ; \\ \\ \\ \\omega - k \\bar{U} > 0 \\big)$ becomes\n",
    "\n",
    "$$c^z_g = \\frac{Nkm}{(k^2 + m^2)^{3/2}} \\approx \\frac{Nk}{m^2}$$\n",
    "\n",
    "so the sign of the vertical wavenumber need to be negative for energy to propagate upwards. On the other hand, if $k \\bar{U} - \\omega > 0$ then $m = -\\frac{Nk}{\\omega - k \\bar{U}}$ becomes positive so we need positive vertical wavenumber for positive vertical group velocity."
   ]
  },
  {
   "cell_type": "markdown",
   "metadata": {},
   "source": [
    "## (d)"
   ]
  },
  {
   "cell_type": "markdown",
   "metadata": {},
   "source": [
    "For small $s$ the term\n",
    "\n",
    "$$\\frac{ik (\\bar{U} - c)}{ik (\\bar{U} - c) + s} = \\frac{1}{1 + \\frac{s}{ik (\\bar{U} - c)}} \\simeq 1- \\frac{s}{ik (\\bar{U} - c)}$$\n",
    "\n",
    "so the dispersion relation for a non-rotating system becomes"
   ]
  },
  {
   "cell_type": "markdown",
   "metadata": {},
   "source": [
    "$$- m^2 + \\bigg[ \\frac{N^2}{(\\bar{U} - c)^2} \\big( 1 + \\frac{is}{k (\\bar{U} - c)} \\big) - \\frac{1}{4H^2} \\bigg] = 0$$\n",
    "\n",
    "and within a Boussinesq fluid, we get\n",
    "\n",
    "$$m^2 = \\frac{N^2}{(\\bar{U} - c)^2} \\big( 1 + \\frac{is}{k (\\bar{U} - c)} \\big)$$\n",
    "\n",
    "$$\\therefore \\ \\ \\ m = \\pm \\frac{N}{\\bar{U} - c} \\bigg[ 1 + \\frac{is}{k (\\bar{U} - c)} \\bigg]^{1/2} \\simeq \\pm \\frac{N}{\\bar{U} - c} \\pm i \\frac{sN}{2k (\\bar{U} - c)^2}$$"
   ]
  },
  {
   "cell_type": "markdown",
   "metadata": {},
   "source": [
    "Plugging the vertical wavenumber into the plane wave solution, we have\n",
    "\n",
    "$$e^{imz} = e^{\\pm i \\frac{N}{\\bar{U} - c}z} e^{\\mp \\frac{sN}{2k (\\bar{U} - c)^2}z}$$\n",
    "\n",
    "so if $\\bar{U} - c > 0$, the solution decaying upward has a positive wavenumber of\n",
    "\n",
    "$$m = \\frac{N}{\\bar{U} - c} + i \\frac{sN}{2k (\\bar{U} - c)^2}$$\n",
    "\n",
    "and if $\\bar{U} - c < 0$ the solution decaying upward has a negative wavenumber of\n",
    "\n",
    "$$m = - \\bigg( \\frac{N}{\\bar{U} - c} + i \\frac{sN}{2k (\\bar{U} - c)^2} \\bigg)$$"
   ]
  },
  {
   "cell_type": "markdown",
   "metadata": {},
   "source": [
    "## (e)"
   ]
  },
  {
   "cell_type": "markdown",
   "metadata": {},
   "source": [
    "Multiplying the momentum equation (1) in the problem set with $\\Phi'$ and $u'$ separately and taking the zonal average gives\n",
    "\n",
    "$$\\overline{\\Phi' \\frac{\\partial u'}{\\partial t}} + \\bar{U} \\overline{\\Phi' \\frac{\\partial u'}{\\partial x}} + \\overline{\\Phi' w'} \\frac{\\partial \\bar{U}}{\\partial z} - f \\overline{\\Phi' v'} = - \\overline{\\frac{\\partial}{\\partial x} \\bigg( \\frac{1}{2}\\Phi'^2 \\bigg)}$$\n",
    "\n",
    "$$\\frac{\\partial}{\\partial t} \\bigg( \\frac{1}{2} \\overline{u'^2} \\bigg) + \\bar{U} \\overline{\\frac{\\partial}{\\partial x} \\big( \\frac{1}{2} u'^2 \\big)} + \\overline{u'w'} \\frac{\\partial \\bar{U}}{\\partial z} - f \\overline{u'v'} = - \\overline{u' \\frac{\\partial \\Phi'}{\\partial x}}$$"
   ]
  },
  {
   "cell_type": "markdown",
   "metadata": {},
   "source": [
    "Taking the zonal average allows the $\\overline{\\frac{\\partial}{\\partial x}(\\ )}$ terms to vanish so using the relation $\\frac{\\partial}{\\partial t} = -c \\frac{\\partial}{\\partial x}$ and non-rotation yields\n",
    "\n",
    "$$(\\bar{U} - c) \\overline{\\Phi' \\frac{\\partial u'}{\\partial x}} + \\overline{\\Phi' w'} \\frac{\\partial \\bar{U}}{\\partial z} = 0 \\ \\ \\ \\ \\ (1.e.1)$$\n",
    "\n",
    "$$(\\bar{U} - c) \\overline{\\frac{\\partial}{\\partial x} \\bigg( \\frac{1}{2} u'^2 \\bigg)} + \\overline{u'w'} \\frac{\\partial \\bar{U}}{\\partial z} = - \\overline{u' \\frac{\\partial \\Phi'}{\\partial x}}$$"
   ]
  },
  {
   "cell_type": "markdown",
   "metadata": {},
   "source": [
    "so the second equation becomes\n",
    "\n",
    "$$\\overline{u'w'} \\frac{\\partial \\bar{U}}{\\partial z} = - \\overline{u' \\frac{\\partial \\Phi'}{\\partial x}} \\ \\ \\ \\ \\ (1.e.2)$$"
   ]
  },
  {
   "cell_type": "markdown",
   "metadata": {},
   "source": [
    "From $(1.e.1) - (\\bar{U} - c) \\times (1.e.2)$, we get\n",
    "\n",
    "$$\\big( \\overline{\\Phi' w'} + (\\bar{U} - c) \\overline{u'w'} \\big) \\frac{\\partial \\bar{U}}{\\partial z} + (\\bar{U} - c) \\overline{ \\frac{\\partial}{\\partial x} u' \\Phi'} = 0$$\n",
    "\n",
    "$$\\therefore \\ \\ \\ \\overline{\\Phi' w'} = - (\\bar{U} - c) \\overline{u'w'}$$"
   ]
  },
  {
   "cell_type": "markdown",
   "metadata": {},
   "source": [
    "## (f)"
   ]
  },
  {
   "cell_type": "markdown",
   "metadata": {},
   "source": [
    "Using results from (c), we have\n",
    "\n",
    "$$c_g^z = \\frac{Nk}{m^2} = \\frac{k (\\bar{U} - c)^2}{N} = \\frac{s}{2} \\frac{2k (\\bar{U} - c)^2}{sN}$$\n",
    "\n",
    "and from equation (12) in the problem set\n",
    "\n",
    "$$m_i = \\frac{sN}{2k (\\bar{U} - c)^2}$$\n",
    "\n",
    "so\n",
    "\n",
    "$${m_i}^{-1} = \\frac{2}{s} c_g^z$$"
   ]
  },
  {
   "cell_type": "markdown",
   "metadata": {},
   "source": [
    "# Question 2"
   ]
  },
  {
   "cell_type": "markdown",
   "metadata": {},
   "source": [
    "Hide's theorem claims that there can be no isolated extrema of a conserved quantity in the interior of a fluid for a steady state, if there is any diffusion at all. However, a source in the interior can balance this diffusion and having the perturbation source at the equator generates Rossby waves which propagate away from the equator. In turn, countergradient eddy angular momentum flux induces torque in the equatorial region which accelerates the equatorial jet, leading a superrotation.\n",
    "\n",
    "\n",
    "Another positive feedback for equatorial superrotation would occur if some process introduced a westerly perturbation to the zonal mean flow in the tropical upper troposphere. Since $U - c$ at the surface would become larger at the equator due to the perturbation, Rossby waves would be less likely to break and the drag in the tropics associated with wave breaking would reduce. Less drag would be equivalent to an additional source of westerly momentum for the equatorial jet."
   ]
  },
  {
   "cell_type": "code",
   "execution_count": null,
   "metadata": {
    "collapsed": true
   },
   "outputs": [],
   "source": []
  }
 ],
 "metadata": {
  "kernelspec": {
   "display_name": "Python 2",
   "language": "python",
   "name": "python2"
  },
  "language_info": {
   "codemirror_mode": {
    "name": "ipython",
    "version": 2
   },
   "file_extension": ".py",
   "mimetype": "text/x-python",
   "name": "python",
   "nbconvert_exporter": "python",
   "pygments_lexer": "ipython2",
   "version": "2.7.10"
  }
 },
 "nbformat": 4,
 "nbformat_minor": 0
}
